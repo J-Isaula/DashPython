{
  "cells": [
    {
      "cell_type": "markdown",
      "metadata": {
        "id": "Fg0c_LQ6ukSo"
      },
      "source": [
        "# Interactividad con Collbacks y Componentes\n",
        "\n",
        "Convierta sus aplicaciones de Dash en experiencias impulsadas por el usuario al dominar los componentes interactivos. Aprenda a incluir menús despegables, selectores de fechas y campos de texto sin eventos para modificar elementos en sus aplicaciones Dash y crear tableros de autoservicio que sus usuarios puedan explorar.\n",
        "\n",
        "## Devoluciones de llamada en Dash\n",
        "\n",
        "Comencemos a hacer que nuestras aplicaciones de Dash sean interactivas usando devoluciones de llamada.\n",
        "\n",
        "### ¿Qué son las devoluciones de llamada?\n",
        "\n",
        "En Dash, las devoluciones de llamadas son funciones definidas dentro de una aplicación que se activan con la interacción del usuario. Especificamente, un usuario interactúa con un elemento que activa una función de Python, y esta función provocará un cambio en la aplicación. Esto nos permite crear experiencias de usuarios interactivas dentro de nuestras aplicaciones.\n",
        "\n",
        "Veamos una devolución de llamada en Dash. Comenzamos con el decorador @app.callback(). Un decorador en un objeto avanzado en Python que está más allá del alcance de este curso. Cubriremos lo que necesita saber para usar el especificado relevante para Dash. Dentro del decorador, hay dos elementos.\n",
        "\n",
        "- Salida (Output): define que componente se cambiara utilizando el valor devuelto de la función activada. Especificamente, la propiedad de identificación del componente identifica el componente que se actualizará y la propiedad del componente define exactamente qué se actualizará en ese componente. Aquí tenemos un gráfico comn una identificación de my_plot , y actualizaremos el atributo de la figura. La entrada es lo que activa la devolución de llamada, identificada de manera similar por la propiedad de identificación del componente.\n",
        "\n",
        "\n",
        "\n",
        "\n",
        "\n"
      ]
    },
    {
      "cell_type": "code",
      "execution_count": 39,
      "metadata": {
        "colab": {
          "base_uri": "https://localhost:8080/",
          "height": 74
        },
        "id": "agBTsKLLRLa0",
        "outputId": "9708ec66-43d7-4ada-961c-7f74c64403d9"
      },
      "outputs": [
        {
          "output_type": "display_data",
          "data": {
            "text/plain": [
              "<IPython.core.display.HTML object>"
            ],
            "text/html": [
              "\n",
              "     <input type=\"file\" id=\"files-278f7a76-4648-4f55-bae4-968f083f11f3\" name=\"files[]\" multiple disabled\n",
              "        style=\"border:none\" />\n",
              "     <output id=\"result-278f7a76-4648-4f55-bae4-968f083f11f3\">\n",
              "      Upload widget is only available when the cell has been executed in the\n",
              "      current browser session. Please rerun this cell to enable.\n",
              "      </output>\n",
              "      <script>// Copyright 2017 Google LLC\n",
              "//\n",
              "// Licensed under the Apache License, Version 2.0 (the \"License\");\n",
              "// you may not use this file except in compliance with the License.\n",
              "// You may obtain a copy of the License at\n",
              "//\n",
              "//      http://www.apache.org/licenses/LICENSE-2.0\n",
              "//\n",
              "// Unless required by applicable law or agreed to in writing, software\n",
              "// distributed under the License is distributed on an \"AS IS\" BASIS,\n",
              "// WITHOUT WARRANTIES OR CONDITIONS OF ANY KIND, either express or implied.\n",
              "// See the License for the specific language governing permissions and\n",
              "// limitations under the License.\n",
              "\n",
              "/**\n",
              " * @fileoverview Helpers for google.colab Python module.\n",
              " */\n",
              "(function(scope) {\n",
              "function span(text, styleAttributes = {}) {\n",
              "  const element = document.createElement('span');\n",
              "  element.textContent = text;\n",
              "  for (const key of Object.keys(styleAttributes)) {\n",
              "    element.style[key] = styleAttributes[key];\n",
              "  }\n",
              "  return element;\n",
              "}\n",
              "\n",
              "// Max number of bytes which will be uploaded at a time.\n",
              "const MAX_PAYLOAD_SIZE = 100 * 1024;\n",
              "\n",
              "function _uploadFiles(inputId, outputId) {\n",
              "  const steps = uploadFilesStep(inputId, outputId);\n",
              "  const outputElement = document.getElementById(outputId);\n",
              "  // Cache steps on the outputElement to make it available for the next call\n",
              "  // to uploadFilesContinue from Python.\n",
              "  outputElement.steps = steps;\n",
              "\n",
              "  return _uploadFilesContinue(outputId);\n",
              "}\n",
              "\n",
              "// This is roughly an async generator (not supported in the browser yet),\n",
              "// where there are multiple asynchronous steps and the Python side is going\n",
              "// to poll for completion of each step.\n",
              "// This uses a Promise to block the python side on completion of each step,\n",
              "// then passes the result of the previous step as the input to the next step.\n",
              "function _uploadFilesContinue(outputId) {\n",
              "  const outputElement = document.getElementById(outputId);\n",
              "  const steps = outputElement.steps;\n",
              "\n",
              "  const next = steps.next(outputElement.lastPromiseValue);\n",
              "  return Promise.resolve(next.value.promise).then((value) => {\n",
              "    // Cache the last promise value to make it available to the next\n",
              "    // step of the generator.\n",
              "    outputElement.lastPromiseValue = value;\n",
              "    return next.value.response;\n",
              "  });\n",
              "}\n",
              "\n",
              "/**\n",
              " * Generator function which is called between each async step of the upload\n",
              " * process.\n",
              " * @param {string} inputId Element ID of the input file picker element.\n",
              " * @param {string} outputId Element ID of the output display.\n",
              " * @return {!Iterable<!Object>} Iterable of next steps.\n",
              " */\n",
              "function* uploadFilesStep(inputId, outputId) {\n",
              "  const inputElement = document.getElementById(inputId);\n",
              "  inputElement.disabled = false;\n",
              "\n",
              "  const outputElement = document.getElementById(outputId);\n",
              "  outputElement.innerHTML = '';\n",
              "\n",
              "  const pickedPromise = new Promise((resolve) => {\n",
              "    inputElement.addEventListener('change', (e) => {\n",
              "      resolve(e.target.files);\n",
              "    });\n",
              "  });\n",
              "\n",
              "  const cancel = document.createElement('button');\n",
              "  inputElement.parentElement.appendChild(cancel);\n",
              "  cancel.textContent = 'Cancel upload';\n",
              "  const cancelPromise = new Promise((resolve) => {\n",
              "    cancel.onclick = () => {\n",
              "      resolve(null);\n",
              "    };\n",
              "  });\n",
              "\n",
              "  // Wait for the user to pick the files.\n",
              "  const files = yield {\n",
              "    promise: Promise.race([pickedPromise, cancelPromise]),\n",
              "    response: {\n",
              "      action: 'starting',\n",
              "    }\n",
              "  };\n",
              "\n",
              "  cancel.remove();\n",
              "\n",
              "  // Disable the input element since further picks are not allowed.\n",
              "  inputElement.disabled = true;\n",
              "\n",
              "  if (!files) {\n",
              "    return {\n",
              "      response: {\n",
              "        action: 'complete',\n",
              "      }\n",
              "    };\n",
              "  }\n",
              "\n",
              "  for (const file of files) {\n",
              "    const li = document.createElement('li');\n",
              "    li.append(span(file.name, {fontWeight: 'bold'}));\n",
              "    li.append(span(\n",
              "        `(${file.type || 'n/a'}) - ${file.size} bytes, ` +\n",
              "        `last modified: ${\n",
              "            file.lastModifiedDate ? file.lastModifiedDate.toLocaleDateString() :\n",
              "                                    'n/a'} - `));\n",
              "    const percent = span('0% done');\n",
              "    li.appendChild(percent);\n",
              "\n",
              "    outputElement.appendChild(li);\n",
              "\n",
              "    const fileDataPromise = new Promise((resolve) => {\n",
              "      const reader = new FileReader();\n",
              "      reader.onload = (e) => {\n",
              "        resolve(e.target.result);\n",
              "      };\n",
              "      reader.readAsArrayBuffer(file);\n",
              "    });\n",
              "    // Wait for the data to be ready.\n",
              "    let fileData = yield {\n",
              "      promise: fileDataPromise,\n",
              "      response: {\n",
              "        action: 'continue',\n",
              "      }\n",
              "    };\n",
              "\n",
              "    // Use a chunked sending to avoid message size limits. See b/62115660.\n",
              "    let position = 0;\n",
              "    do {\n",
              "      const length = Math.min(fileData.byteLength - position, MAX_PAYLOAD_SIZE);\n",
              "      const chunk = new Uint8Array(fileData, position, length);\n",
              "      position += length;\n",
              "\n",
              "      const base64 = btoa(String.fromCharCode.apply(null, chunk));\n",
              "      yield {\n",
              "        response: {\n",
              "          action: 'append',\n",
              "          file: file.name,\n",
              "          data: base64,\n",
              "        },\n",
              "      };\n",
              "\n",
              "      let percentDone = fileData.byteLength === 0 ?\n",
              "          100 :\n",
              "          Math.round((position / fileData.byteLength) * 100);\n",
              "      percent.textContent = `${percentDone}% done`;\n",
              "\n",
              "    } while (position < fileData.byteLength);\n",
              "  }\n",
              "\n",
              "  // All done.\n",
              "  yield {\n",
              "    response: {\n",
              "      action: 'complete',\n",
              "    }\n",
              "  };\n",
              "}\n",
              "\n",
              "scope.google = scope.google || {};\n",
              "scope.google.colab = scope.google.colab || {};\n",
              "scope.google.colab._files = {\n",
              "  _uploadFiles,\n",
              "  _uploadFilesContinue,\n",
              "};\n",
              "})(self);\n",
              "</script> "
            ]
          },
          "metadata": {}
        },
        {
          "output_type": "stream",
          "name": "stdout",
          "text": [
            "Saving ecom_sales.csv to ecom_sales (3).csv\n"
          ]
        }
      ],
      "source": [
        "from google.colab import files\n",
        "uploaded = files.upload()"
      ]
    },
    {
      "cell_type": "code",
      "execution_count": null,
      "metadata": {
        "id": "t0XEnChySpSY"
      },
      "outputs": [],
      "source": [
        "pip install dash"
      ]
    },
    {
      "cell_type": "code",
      "execution_count": 40,
      "metadata": {
        "colab": {
          "base_uri": "https://localhost:8080/",
          "height": 671
        },
        "id": "xes7_m2Yk9AM",
        "outputId": "91288078-19f9-4585-9296-2580a6293271"
      },
      "outputs": [
        {
          "output_type": "display_data",
          "data": {
            "text/plain": [
              "<IPython.core.display.Javascript object>"
            ],
            "application/javascript": [
              "(async (port, path, width, height, cache, element) => {\n",
              "    if (!google.colab.kernel.accessAllowed && !cache) {\n",
              "      return;\n",
              "    }\n",
              "    element.appendChild(document.createTextNode(''));\n",
              "    const url = await google.colab.kernel.proxyPort(port, {cache});\n",
              "    const iframe = document.createElement('iframe');\n",
              "    iframe.src = new URL(path, url).toString();\n",
              "    iframe.height = height;\n",
              "    iframe.width = width;\n",
              "    iframe.style.border = 0;\n",
              "    iframe.allow = [\n",
              "        'accelerometer',\n",
              "        'autoplay',\n",
              "        'camera',\n",
              "        'clipboard-read',\n",
              "        'clipboard-write',\n",
              "        'gyroscope',\n",
              "        'magnetometer',\n",
              "        'microphone',\n",
              "        'serial',\n",
              "        'usb',\n",
              "        'xr-spatial-tracking',\n",
              "    ].join('; ');\n",
              "    element.appendChild(iframe);\n",
              "  })(2274, \"/\", \"100%\", 650, false, window.element)"
            ]
          },
          "metadata": {}
        }
      ],
      "source": [
        "from dash import Dash, dcc, html, Input, Output, callback\n",
        "import plotly.express as px\n",
        "\n",
        "import pandas as pd\n",
        "\n",
        "df = pd.read_csv('ecom_sales.csv')\n",
        "\n",
        "app = Dash(__name__)\n",
        "\n",
        "app.layout = html.Div(children = [\n",
        "    # Menú Despegable\n",
        "    dcc.Dropdown(id = \"title_dd\",\n",
        "                 options=[{\"label\":\"Title 1\",\n",
        "                           \"value\":\"Title 1\"},\n",
        "                          {\"label\":\"Title 2\",\n",
        "                           \"value\":\"Title 2\"}]),\n",
        "    dcc.Graph(id=\"my_graph\")\n",
        "])\n",
        "\n",
        "# Devolución  de llamada\n",
        "@app.callback(\n",
        "    Output('my_graph', 'figure'),\n",
        "    Input('title_dd', 'value'))\n",
        "\n",
        "# Función de actualización de gráfico.\n",
        "def update_plot(selection):\n",
        "  title = \"None Selected\"\n",
        "  if selection:\n",
        "    title = selection\n",
        "  bar_fig = px.bar(\n",
        "      data_frame = df,\n",
        "      title = f\"{title}\",\n",
        "      x = \"Quantity\", y = \"Country\"\n",
        "  )\n",
        "  return bar_fig\n",
        "\n",
        "if __name__ == '__main__':\n",
        "    app.run(port = 2274)"
      ]
    },
    {
      "cell_type": "markdown",
      "metadata": {
        "id": "qS9NsewidF98"
      },
      "source": [
        "- `Entrada (Input):` La entrada es lo que activa la devolución de llamada, identificada de manera similar\n",
        "por la propiedad de identificación  del componente"
      ]
    },
    {
      "cell_type": "markdown",
      "metadata": {
        "id": "FlFx5g-CdD4J"
      },
      "source": [
        "## Menús despegables en Dash\n",
        "\n",
        "Un menu despegable en Dash contiene una lista de opciones que los usuarios pueden seleccionar. Se construye de una lista de diccionarios con una etiqueta y un valor. La etiqueta es lo que ve el usuario y el valopr es lo que se envia a una devolución de llamada. Tal como se muestra en el bloque de código anterior.\n",
        "\n",
        "El ejemplo anterior, es un caso despegable completo en acción. Comenzamos con el diseño de la aplicación con el que estamos familiarizados. Dentro colocamos nuestro menú despegable. Tenga en cuenta que el `id`, `title_dd`, es vital para vincularlo a nuestra función de devolución de llamada. Agregamos el gráfico que deseamos cambiar al diseño de la aplicación. Tenga en cuenta que no ponemos la figura en sí aquí, como lo hemos hecho anteriormente. Ahora, agregamos la devolución de llamada. La salida será el argumento de la figura del gráfico que acabamos de configurar, vinculado con la misma identificación; `my_grafico`. Los enlaces de entrada al menu despegable que creamos a través de la id, title_dd, y nos permite extraer el valor asociado con la opción seleccionada. Inmediatamente debajo del decorador de devolución de llamada se encuentra la función de actualización de gráficos. En realida, esto se ejecutará una vez que se cargue, por lo que debemos establecer un valor predeterminado. La instrucción if se activará cuando un usuario seleccione el menú despegable. Ahora el trabajo esta hecho. El valor de la selección esta disponible como una variable de Python, que se convierte en el título de gráfico de barras. Finalmente, se devuelve el gráfico de barras, que activa la parte de salida de devolución de llamada y actualiza el componente de gráfico en el diseño."
      ]
    },
    {
      "cell_type": "markdown",
      "metadata": {
        "id": "ly6ith21vyaE"
      },
      "source": [
        "## Despegable como filtro\n",
        "\n",
        "Un caso de uso más común para los menús despegables es filtrar el marco de datos que admite un gráfico. Veamos un ejemplo codificado para filtrar la columna País de nuestro marco de datos `ecom_sales`. Notará que debajo del decorador, tenemos nuestra función de actualización familiar y establecemos un valor predeterminado para la primera ejecución. Siempre que esté filtrando las devoluciones de llamada, es importante hacer una copia; de lo contrario, los subconjuntos futuros no funcionarán. Nuestra declaración if ahora filtra el DataFrame solo a lo que el usuario seleccionó. Como antes, creamos la figura y la devolvemos."
      ]
    },
    {
      "cell_type": "code",
      "execution_count": 41,
      "metadata": {
        "colab": {
          "base_uri": "https://localhost:8080/",
          "height": 671
        },
        "id": "vPqbzQUFxaWY",
        "outputId": "3bd85dd1-16ea-456b-b252-7c4c69a47d65"
      },
      "outputs": [
        {
          "output_type": "display_data",
          "data": {
            "text/plain": [
              "<IPython.core.display.Javascript object>"
            ],
            "application/javascript": [
              "(async (port, path, width, height, cache, element) => {\n",
              "    if (!google.colab.kernel.accessAllowed && !cache) {\n",
              "      return;\n",
              "    }\n",
              "    element.appendChild(document.createTextNode(''));\n",
              "    const url = await google.colab.kernel.proxyPort(port, {cache});\n",
              "    const iframe = document.createElement('iframe');\n",
              "    iframe.src = new URL(path, url).toString();\n",
              "    iframe.height = height;\n",
              "    iframe.width = width;\n",
              "    iframe.style.border = 0;\n",
              "    iframe.allow = [\n",
              "        'accelerometer',\n",
              "        'autoplay',\n",
              "        'camera',\n",
              "        'clipboard-read',\n",
              "        'clipboard-write',\n",
              "        'gyroscope',\n",
              "        'magnetometer',\n",
              "        'microphone',\n",
              "        'serial',\n",
              "        'usb',\n",
              "        'xr-spatial-tracking',\n",
              "    ].join('; ');\n",
              "    element.appendChild(iframe);\n",
              "  })(2275, \"/\", \"100%\", 650, false, window.element)"
            ]
          },
          "metadata": {}
        }
      ],
      "source": [
        "from dash import Dash, dcc, html, Input, Output, callback\n",
        "import plotly.express as px\n",
        "\n",
        "import pandas as pd\n",
        "\n",
        "df = pd.read_csv('ecom_sales.csv')\n",
        "\n",
        "app = Dash(__name__)\n",
        "\n",
        "app.layout = html.Div(children = [\n",
        "    # Menú Despegable\n",
        "    dcc.Dropdown(id = \"title_dd\",\n",
        "                 options=[{\"label\":\"Title 1\",\n",
        "                           \"value\":\"Title 1\"},\n",
        "                          {\"label\":\"Title 2\",\n",
        "                           \"value\":\"Title 2\"}]),\n",
        "    dcc.Graph(id=\"my_graph\")\n",
        "])\n",
        "\n",
        "# Devolución  de llamada\n",
        "@app.callback(\n",
        "    Output('my_graph', 'figure'),\n",
        "    Input('title_dd', 'value'))\n",
        "\n",
        "# Función de actualización de gráfico.\n",
        "def update_plot(input_country):\n",
        "  country = \"All Counstries\"\n",
        "  sales = df.copy(deep=True)\n",
        "  if input_country:\n",
        "    country = input_country\n",
        "    sales = sales[sales[\"Country\"] == input_country]\n",
        "\n",
        "  bar_fig = px.bar(\n",
        "      data_frame = sales, title = f\"Sales in {country}\",\n",
        "      x = \"Quantity\", y = \"Country\"\n",
        "  )\n",
        "  return bar_fig\n",
        "\n",
        "if __name__ == '__main__':\n",
        "    app.run(port = 2275)"
      ]
    },
    {
      "cell_type": "code",
      "execution_count": 42,
      "metadata": {
        "colab": {
          "base_uri": "https://localhost:8080/",
          "height": 671
        },
        "id": "mpEY8J2SyoW9",
        "outputId": "d00ffaaa-75d9-4036-dded-70e9bef34c6b"
      },
      "outputs": [
        {
          "output_type": "display_data",
          "data": {
            "text/plain": [
              "<IPython.core.display.Javascript object>"
            ],
            "application/javascript": [
              "(async (port, path, width, height, cache, element) => {\n",
              "    if (!google.colab.kernel.accessAllowed && !cache) {\n",
              "      return;\n",
              "    }\n",
              "    element.appendChild(document.createTextNode(''));\n",
              "    const url = await google.colab.kernel.proxyPort(port, {cache});\n",
              "    const iframe = document.createElement('iframe');\n",
              "    iframe.src = new URL(path, url).toString();\n",
              "    iframe.height = height;\n",
              "    iframe.width = width;\n",
              "    iframe.style.border = 0;\n",
              "    iframe.allow = [\n",
              "        'accelerometer',\n",
              "        'autoplay',\n",
              "        'camera',\n",
              "        'clipboard-read',\n",
              "        'clipboard-write',\n",
              "        'gyroscope',\n",
              "        'magnetometer',\n",
              "        'microphone',\n",
              "        'serial',\n",
              "        'usb',\n",
              "        'xr-spatial-tracking',\n",
              "    ].join('; ');\n",
              "    element.appendChild(iframe);\n",
              "  })(2276, \"/\", \"100%\", 650, false, window.element)"
            ]
          },
          "metadata": {}
        }
      ],
      "source": [
        "import dash\n",
        "import dash_core_components as dcc\n",
        "import dash_html_components as html\n",
        "import plotly.express as px\n",
        "import pandas as pd\n",
        "from dash.dependencies import Input, Output\n",
        "ecom_sales = pd.read_csv('ecom_sales.csv')\n",
        "logo_link = 'https://assets.datacamp.com/production/repositories/5893/datasets/fdbe0accd2581a0c505dab4b29ebb66cf72a1803/e-comlogo.png'\n",
        "\n",
        "app = dash.Dash(__name__)\n",
        "\n",
        "app.layout = html.Div([\n",
        "  html.Img(src=logo_link,style={'margin':'30px 0px 0px 0px' }),\n",
        "  html.H1('Sales breakdowns'),\n",
        "  html.Div(\n",
        "    children=[\n",
        "    html.Div(\n",
        "        children=[\n",
        "        html.H2('Controls'),\n",
        "        html.Br(),\n",
        "        html.H3('Country Select'),\n",
        "        # Add a dropdown with identifier\n",
        "        dcc.Dropdown(id='country_dd',\n",
        "        # Set the available options with noted labels and values\n",
        "        options=[\n",
        "            {'label':'UK', 'value':'United Kingdom'},\n",
        "            {'label':'GM', 'value':'Germany'},\n",
        "            {'label':'FR', 'value':'France'},\n",
        "            {'label':'AUS', 'value':'Australia'},\n",
        "            {'label':'HK', 'value':'Hong Kong'}],\n",
        "            style={'width':'200px', 'margin':'0 auto'})\n",
        "        ],\n",
        "        style={'width':'350px', 'height':'350px', 'display':'inline-block', 'vertical-align':'top', 'border':'1px solid black', 'padding':'20px'}),\n",
        "    html.Div(children=[\n",
        "            # Add a graph component with identifier\n",
        "            dcc.Graph(id='description'),\n",
        "            html.H2('Major Category',\n",
        "            style={ 'border':'2px solid black', 'width':'200px', 'margin':'0 auto'})\n",
        "            ],\n",
        "             style={'width':'700px','display':'inline-block'}\n",
        "             ),\n",
        "    ])],\n",
        "  style={'text-align':'center', 'display':'inline-block', 'width':'100%'}\n",
        "  )\n",
        "\n",
        "@app.callback(\n",
        "    # Set the input and output of the callback to link the dropdown to the graph\n",
        "    Output(component_id='description', component_property='figure'),\n",
        "    Input(component_id='country_dd', component_property='value')\n",
        ")\n",
        "\n",
        "def update_plot(input_country):\n",
        "    country_filter = 'All Countries'\n",
        "    sales = ecom_sales.copy(deep=True)\n",
        "    if input_country:\n",
        "        country_filter = input_country\n",
        "        sales = sales[sales['Country'] == country_filter]\n",
        "    ecom_bar_major_cat = sales.groupby('Description')['OrderValue'].agg('sum').reset_index(name='Quantity')\n",
        "    bar_fig_major_cat = px.bar(\n",
        "        title=f'Sales in {country_filter}', data_frame=ecom_bar_major_cat, x='Quantity', y='Description', color='Description',\n",
        "                 color_discrete_map={'Clothes':'blue','Kitchen':'red','Garden':'green','Household':'yellow'})\n",
        "    return bar_fig_major_cat\n",
        "\n",
        "if __name__ == '__main__':\n",
        "    app.run(port = 2276)"
      ]
    },
    {
      "cell_type": "markdown",
      "metadata": {
        "id": "LBNKX4PI118f"
      },
      "source": [
        "## Componentes Interactivos\n",
        "\n",
        "Mejoremos aún más la interactividad de nuestras aplicaciones Dash con más componentes interactivos.\n",
        "\n",
        "Dash tiene un variedad de componentes interactivos utiles que pueden mejorar la usabilidad del tablero. Todos son parte el modulo `dcc_core_components`. A continuación se muestran algunos utiles:\n",
        "\n",
        "- `dcc.Checklist()` crea casillas de verificación.\n",
        "\n",
        "- `dcc.RadioItems()` crea una selección de botón de opción.\n",
        "\n",
        "- `dcc.Slider()`/`dcc.RangeSlider()` crean selecckiones de control deslizante. Los veremos de cerca en breve.\n",
        "\n",
        "- `dcc.DatePickerSingle()` / `dcc.DatePickerRange()` selectores de fechas, incluidos. Tienen similitudes con los selectores deslizantes. Como veremos\n",
        "\n",
        "### Deslizadores\n",
        "\n",
        "Un control deslizante es un elemento interactivo arrastramos y movemos a un punto a lo largo de una linea para seleccionar un valor, por lo que podemos seleccionar seleccionar dos valores que forman un rango. Recuerde que estos selectores se usan principalmente para vincular  a una devolución de llamada que actualizará un gráfico u otro omponente Dash."
      ]
    },
    {
      "cell_type": "markdown",
      "metadata": {
        "id": "r4EsMRAO5UOL"
      },
      "source": [
        "## Controles Deslizantes en Dash\n",
        "\n",
        "Veamos cómo crear y personalizar un control deslizante en Dash. Comienza con el objeto deslizante `dash_core_components`. Los argumentos `min` y `max` establecen los límites del control deslizante. Aquí, el control deslizante comenzará en 10 y terminará en 50. El valor establece lo que se seleccionará al cargar la aplicación. Este control deslizante comenzara con 45 seleccionados. El paso estableve cuánto incrementará el valor cada muesca a lo largo del control deslizante. Este control deslizante aumentará en cinco cada muesca. Finalmente, podemos establecer vertical en falso si deseamos que el control deslizante sea horizontal."
      ]
    },
    {
      "cell_type": "markdown",
      "metadata": {
        "id": "so6b-sZJ6Yn7"
      },
      "source": [
        "### Selectores de fechas en Dash\n",
        "\n",
        "Es común tener fechas en nuestros datos. Aquí, `DatePickerSingle` resulta útil. Como selector para una sola fecha.\n",
        "\n",
        "En Dash, esto se crea usando `dcc.DatePickerSingle()`. Algunos argumentos clave se ven aquí. El argumento de fecha estableve qué fecha se selecciona por primera vez. Puede ser `dcc.DatePickerSingle(2021, 7, 1)`, lo cual es el primero de julio de 2021. otro argumento es `initial_visible_month` es el mes que se muestra en la ventana emergente. Esto extrae la fecha de un objeto de fecha de python para que podamos usar `datetime.now()` y extraerá el mes actual. Opcionalmente, podemos limitar las opciones usando los argumentos `min_date_allowed` y `max_date_alowed`. Esto puede garantizar que los usuarios solo puedan seleccionar lo que está disponible en los datos.\n",
        "\n",
        "### Selector de rango de fechas\n",
        "\n",
        "Un rango de selector de fechas es similar a un selector de fechas único. Esto es lo que parece visualmente. En Dash, el código comparte muchos argumentos, como podemos ver."
      ]
    },
    {
      "cell_type": "code",
      "execution_count": null,
      "metadata": {
        "id": "nH-pgTgr9pSo"
      },
      "outputs": [],
      "source": [
        "dcc.DatePickerRange(\n",
        "    initial_visible_month=datetime.now()\n",
        "    star_date = date(2021, 7, 1),\n",
        "    end_date=date(2021, 7, 14),\n",
        ")"
      ]
    },
    {
      "cell_type": "markdown",
      "metadata": {
        "id": "hn1TXeGn92M5"
      },
      "source": [
        "Sin embargo, ahora tenemos un argumento `start_date` y `end_date` disponible para establecer lo que será inicialmente visible en ambos selectores de fecha."
      ]
    },
    {
      "cell_type": "code",
      "execution_count": 43,
      "metadata": {
        "colab": {
          "base_uri": "https://localhost:8080/",
          "height": 74
        },
        "id": "k_wA_vN-AT5L",
        "outputId": "1eb25745-fea4-4e91-c675-67b97714503f"
      },
      "outputs": [
        {
          "output_type": "display_data",
          "data": {
            "text/plain": [
              "<IPython.core.display.HTML object>"
            ],
            "text/html": [
              "\n",
              "     <input type=\"file\" id=\"files-66bc8396-47bb-400d-8e67-9cf62c80962f\" name=\"files[]\" multiple disabled\n",
              "        style=\"border:none\" />\n",
              "     <output id=\"result-66bc8396-47bb-400d-8e67-9cf62c80962f\">\n",
              "      Upload widget is only available when the cell has been executed in the\n",
              "      current browser session. Please rerun this cell to enable.\n",
              "      </output>\n",
              "      <script>// Copyright 2017 Google LLC\n",
              "//\n",
              "// Licensed under the Apache License, Version 2.0 (the \"License\");\n",
              "// you may not use this file except in compliance with the License.\n",
              "// You may obtain a copy of the License at\n",
              "//\n",
              "//      http://www.apache.org/licenses/LICENSE-2.0\n",
              "//\n",
              "// Unless required by applicable law or agreed to in writing, software\n",
              "// distributed under the License is distributed on an \"AS IS\" BASIS,\n",
              "// WITHOUT WARRANTIES OR CONDITIONS OF ANY KIND, either express or implied.\n",
              "// See the License for the specific language governing permissions and\n",
              "// limitations under the License.\n",
              "\n",
              "/**\n",
              " * @fileoverview Helpers for google.colab Python module.\n",
              " */\n",
              "(function(scope) {\n",
              "function span(text, styleAttributes = {}) {\n",
              "  const element = document.createElement('span');\n",
              "  element.textContent = text;\n",
              "  for (const key of Object.keys(styleAttributes)) {\n",
              "    element.style[key] = styleAttributes[key];\n",
              "  }\n",
              "  return element;\n",
              "}\n",
              "\n",
              "// Max number of bytes which will be uploaded at a time.\n",
              "const MAX_PAYLOAD_SIZE = 100 * 1024;\n",
              "\n",
              "function _uploadFiles(inputId, outputId) {\n",
              "  const steps = uploadFilesStep(inputId, outputId);\n",
              "  const outputElement = document.getElementById(outputId);\n",
              "  // Cache steps on the outputElement to make it available for the next call\n",
              "  // to uploadFilesContinue from Python.\n",
              "  outputElement.steps = steps;\n",
              "\n",
              "  return _uploadFilesContinue(outputId);\n",
              "}\n",
              "\n",
              "// This is roughly an async generator (not supported in the browser yet),\n",
              "// where there are multiple asynchronous steps and the Python side is going\n",
              "// to poll for completion of each step.\n",
              "// This uses a Promise to block the python side on completion of each step,\n",
              "// then passes the result of the previous step as the input to the next step.\n",
              "function _uploadFilesContinue(outputId) {\n",
              "  const outputElement = document.getElementById(outputId);\n",
              "  const steps = outputElement.steps;\n",
              "\n",
              "  const next = steps.next(outputElement.lastPromiseValue);\n",
              "  return Promise.resolve(next.value.promise).then((value) => {\n",
              "    // Cache the last promise value to make it available to the next\n",
              "    // step of the generator.\n",
              "    outputElement.lastPromiseValue = value;\n",
              "    return next.value.response;\n",
              "  });\n",
              "}\n",
              "\n",
              "/**\n",
              " * Generator function which is called between each async step of the upload\n",
              " * process.\n",
              " * @param {string} inputId Element ID of the input file picker element.\n",
              " * @param {string} outputId Element ID of the output display.\n",
              " * @return {!Iterable<!Object>} Iterable of next steps.\n",
              " */\n",
              "function* uploadFilesStep(inputId, outputId) {\n",
              "  const inputElement = document.getElementById(inputId);\n",
              "  inputElement.disabled = false;\n",
              "\n",
              "  const outputElement = document.getElementById(outputId);\n",
              "  outputElement.innerHTML = '';\n",
              "\n",
              "  const pickedPromise = new Promise((resolve) => {\n",
              "    inputElement.addEventListener('change', (e) => {\n",
              "      resolve(e.target.files);\n",
              "    });\n",
              "  });\n",
              "\n",
              "  const cancel = document.createElement('button');\n",
              "  inputElement.parentElement.appendChild(cancel);\n",
              "  cancel.textContent = 'Cancel upload';\n",
              "  const cancelPromise = new Promise((resolve) => {\n",
              "    cancel.onclick = () => {\n",
              "      resolve(null);\n",
              "    };\n",
              "  });\n",
              "\n",
              "  // Wait for the user to pick the files.\n",
              "  const files = yield {\n",
              "    promise: Promise.race([pickedPromise, cancelPromise]),\n",
              "    response: {\n",
              "      action: 'starting',\n",
              "    }\n",
              "  };\n",
              "\n",
              "  cancel.remove();\n",
              "\n",
              "  // Disable the input element since further picks are not allowed.\n",
              "  inputElement.disabled = true;\n",
              "\n",
              "  if (!files) {\n",
              "    return {\n",
              "      response: {\n",
              "        action: 'complete',\n",
              "      }\n",
              "    };\n",
              "  }\n",
              "\n",
              "  for (const file of files) {\n",
              "    const li = document.createElement('li');\n",
              "    li.append(span(file.name, {fontWeight: 'bold'}));\n",
              "    li.append(span(\n",
              "        `(${file.type || 'n/a'}) - ${file.size} bytes, ` +\n",
              "        `last modified: ${\n",
              "            file.lastModifiedDate ? file.lastModifiedDate.toLocaleDateString() :\n",
              "                                    'n/a'} - `));\n",
              "    const percent = span('0% done');\n",
              "    li.appendChild(percent);\n",
              "\n",
              "    outputElement.appendChild(li);\n",
              "\n",
              "    const fileDataPromise = new Promise((resolve) => {\n",
              "      const reader = new FileReader();\n",
              "      reader.onload = (e) => {\n",
              "        resolve(e.target.result);\n",
              "      };\n",
              "      reader.readAsArrayBuffer(file);\n",
              "    });\n",
              "    // Wait for the data to be ready.\n",
              "    let fileData = yield {\n",
              "      promise: fileDataPromise,\n",
              "      response: {\n",
              "        action: 'continue',\n",
              "      }\n",
              "    };\n",
              "\n",
              "    // Use a chunked sending to avoid message size limits. See b/62115660.\n",
              "    let position = 0;\n",
              "    do {\n",
              "      const length = Math.min(fileData.byteLength - position, MAX_PAYLOAD_SIZE);\n",
              "      const chunk = new Uint8Array(fileData, position, length);\n",
              "      position += length;\n",
              "\n",
              "      const base64 = btoa(String.fromCharCode.apply(null, chunk));\n",
              "      yield {\n",
              "        response: {\n",
              "          action: 'append',\n",
              "          file: file.name,\n",
              "          data: base64,\n",
              "        },\n",
              "      };\n",
              "\n",
              "      let percentDone = fileData.byteLength === 0 ?\n",
              "          100 :\n",
              "          Math.round((position / fileData.byteLength) * 100);\n",
              "      percent.textContent = `${percentDone}% done`;\n",
              "\n",
              "    } while (position < fileData.byteLength);\n",
              "  }\n",
              "\n",
              "  // All done.\n",
              "  yield {\n",
              "    response: {\n",
              "      action: 'complete',\n",
              "    }\n",
              "  };\n",
              "}\n",
              "\n",
              "scope.google = scope.google || {};\n",
              "scope.google.colab = scope.google.colab || {};\n",
              "scope.google.colab._files = {\n",
              "  _uploadFiles,\n",
              "  _uploadFilesContinue,\n",
              "};\n",
              "})(self);\n",
              "</script> "
            ]
          },
          "metadata": {}
        },
        {
          "output_type": "stream",
          "name": "stdout",
          "text": [
            "Saving gapminderDataFiveYear.csv to gapminderDataFiveYear (1).csv\n"
          ]
        }
      ],
      "source": [
        "from google.colab import files\n",
        "uploaded = files.upload()"
      ]
    },
    {
      "cell_type": "code",
      "execution_count": 44,
      "metadata": {
        "colab": {
          "base_uri": "https://localhost:8080/",
          "height": 671
        },
        "id": "G9DPBmRrAJ1b",
        "outputId": "9f804171-14b2-4490-f2bf-150e54779745"
      },
      "outputs": [
        {
          "output_type": "display_data",
          "data": {
            "text/plain": [
              "<IPython.core.display.Javascript object>"
            ],
            "application/javascript": [
              "(async (port, path, width, height, cache, element) => {\n",
              "    if (!google.colab.kernel.accessAllowed && !cache) {\n",
              "      return;\n",
              "    }\n",
              "    element.appendChild(document.createTextNode(''));\n",
              "    const url = await google.colab.kernel.proxyPort(port, {cache});\n",
              "    const iframe = document.createElement('iframe');\n",
              "    iframe.src = new URL(path, url).toString();\n",
              "    iframe.height = height;\n",
              "    iframe.width = width;\n",
              "    iframe.style.border = 0;\n",
              "    iframe.allow = [\n",
              "        'accelerometer',\n",
              "        'autoplay',\n",
              "        'camera',\n",
              "        'clipboard-read',\n",
              "        'clipboard-write',\n",
              "        'gyroscope',\n",
              "        'magnetometer',\n",
              "        'microphone',\n",
              "        'serial',\n",
              "        'usb',\n",
              "        'xr-spatial-tracking',\n",
              "    ].join('; ');\n",
              "    element.appendChild(iframe);\n",
              "  })(8050, \"/\", \"100%\", 650, false, window.element)"
            ]
          },
          "metadata": {}
        }
      ],
      "source": [
        "from dash import Dash, dcc, html, Input, Output, callback\n",
        "import plotly.express as px\n",
        "\n",
        "import pandas as pd\n",
        "\n",
        "df = pd.read_csv('https://raw.githubusercontent.com/plotly/datasets/master/gapminderDataFiveYear.csv')\n",
        "\n",
        "app = Dash(__name__)\n",
        "\n",
        "app.layout = html.Div([\n",
        "    dcc.Graph(id='graph-with-slider'),\n",
        "    dcc.Slider(\n",
        "        df['year'].min(),\n",
        "        df['year'].max(),\n",
        "        step=None,\n",
        "        value=df['year'].min(),\n",
        "        marks={str(year): str(year) for year in df['year'].unique()},\n",
        "        id='year-slider'\n",
        "    )\n",
        "])\n",
        "\n",
        "\n",
        "@callback(\n",
        "    Output('graph-with-slider', 'figure'),\n",
        "    Input('year-slider', 'value'))\n",
        "\n",
        "def update_figure(selected_year):\n",
        "    filtered_df = df[df.year == selected_year]\n",
        "\n",
        "    fig = px.scatter(filtered_df, x=\"gdpPercap\", y=\"lifeExp\",\n",
        "    size=\"pop\", color=\"continent\", hover_name=\"country\",\n",
        "    log_x=True, size_max=55)\n",
        "\n",
        "    fig.update_layout(transition_duration=500)\n",
        "\n",
        "    return fig\n",
        "\n",
        "\n",
        "if __name__ == '__main__':\n",
        "    app.run(debug=True)"
      ]
    },
    {
      "cell_type": "markdown",
      "metadata": {
        "id": "qf0GTOBRy_6I"
      },
      "source": [
        "## Componentes de Dash Reutilizables\n",
        "\n",
        "Aprendamos cómo hacer que nuestro código sea compacto y limpio.\n",
        "\n",
        "### Código DRY\n",
        "\n",
        "Un concepto importante en la programación es DRY, que significa no te repitas. Esto a veces también se denomina refactorización. Es una buena práctica reducir las líneas de código cuando sea posible para reducir la complejidad y facilitar el cambio de código más adelante.  En Python esto se hace a menudo mediante la creación de funciones para trabajos repetidos.\n",
        "\n",
        "Veamos un ejemplo aquí de ejercicios anteriores.\n",
        "\n",
        "![fig6.png](data:image/png;base64,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)\n",
        "\n",
        "Aquí queremos agregar los datos de ventas por país y sumar el valor del pedido, mientras cambiamos el nombre de la columna agregada y la ordenamod. ¿Qué pasa si queremos hacer algo similar pero agregado por categoría principal? ¿Ves cuánto código es el mismo? Podriamos refactorizar tal como se mira a la derecha de la imagen anterior creando una función para hacer el trabajo, dado un nombre de columna. Ahora podemos llamar a la función en una línea de corta cada vez; ahora incluso podemos agregar por categoría menor."
      ]
    },
    {
      "cell_type": "markdown",
      "metadata": {
        "id": "X3Ai2Epk4hfD"
      },
      "source": [
        "### DRY en Dash\n",
        "\n",
        "En Dash, podemos aplicar el principio DRY y refactorizar el código usando las funciones de Python. Esto es importante teniendo en cuenta cuánto tiempo se está volviendo el código de nuestras aplicaciones  Dash. Algunos casos de uso comunes para esto incluyen:\n",
        "- reutilizar HTML o cualquier otro componente creando una función para generar el componente y agregando un estilo consistente.\n",
        "\n",
        "Hemos visto cuánto código se puede dedicar a CSS, ya que es bastante complicado. También es más eficiente para actualizar estilos. Ahora solo necesitamos actualizar en un lugar en lugar de muchos.\n",
        "\n",
        "Consideremos un ejemplo de un logotipo con mucho estilo CSS debido a algunas pautas de diselo corporativo. Mira todo ese CSS! Esto obstruirá nuestra aplicación en poco tiempo si usamos el logotipo varias veces.  En su lugar, creamos una función de Python que devuelva el componente Dash, como se ve aquí. Ahora podemos llamar a esto en el diseño de nuestra aplicación donde queramos el logotipo. se insertará un logotipo perfectamente diseñado donde sea que llamemos a la función. Aquí insertamos el logo tres veces. Ese es un buen código DRY.\n",
        "\n",
        "\n"
      ]
    },
    {
      "cell_type": "code",
      "execution_count": 45,
      "metadata": {
        "colab": {
          "base_uri": "https://localhost:8080/",
          "height": 671
        },
        "id": "YljGQ1f-6lIv",
        "outputId": "6401325a-d709-485d-b834-3f50369c162a"
      },
      "outputs": [
        {
          "output_type": "display_data",
          "data": {
            "text/plain": [
              "<IPython.core.display.Javascript object>"
            ],
            "application/javascript": [
              "(async (port, path, width, height, cache, element) => {\n",
              "    if (!google.colab.kernel.accessAllowed && !cache) {\n",
              "      return;\n",
              "    }\n",
              "    element.appendChild(document.createTextNode(''));\n",
              "    const url = await google.colab.kernel.proxyPort(port, {cache});\n",
              "    const iframe = document.createElement('iframe');\n",
              "    iframe.src = new URL(path, url).toString();\n",
              "    iframe.height = height;\n",
              "    iframe.width = width;\n",
              "    iframe.style.border = 0;\n",
              "    iframe.allow = [\n",
              "        'accelerometer',\n",
              "        'autoplay',\n",
              "        'camera',\n",
              "        'clipboard-read',\n",
              "        'clipboard-write',\n",
              "        'gyroscope',\n",
              "        'magnetometer',\n",
              "        'microphone',\n",
              "        'serial',\n",
              "        'usb',\n",
              "        'xr-spatial-tracking',\n",
              "    ].join('; ');\n",
              "    element.appendChild(iframe);\n",
              "  })(8050, \"/\", \"100%\", 650, false, window.element)"
            ]
          },
          "metadata": {}
        }
      ],
      "source": [
        "import dash\n",
        "import dash_core_components as dcc\n",
        "import dash_html_components as html\n",
        "import plotly.express as px\n",
        "import pandas as pd\n",
        "from dash.dependencies import Input, Output\n",
        "\n",
        "logo_link = 'https://assets.datacamp.com/production/repositories/5893/datasets/fdbe0accd2581a0c505dab4b29ebb66cf72a1803/e-comlogo.png'\n",
        "\n",
        "def create_logo():\n",
        "  logo = html.Img(src = logo_link, style = {\n",
        "      \"margin\":\"30px 0px 0px 0px\",\n",
        "      \"padding\":\"50px 50px\",\n",
        "      \"border\":\"3px dotted lightblue\",\n",
        "      \"background-color\":\"rgb(230, 131, 247)\"\n",
        "  })\n",
        "\n",
        "  return logo\n",
        "\n",
        "app = dash.Dash()\n",
        "\n",
        "app.layout = html.Div([\n",
        "    create_logo(),\n",
        "    html.Div(),\n",
        "    create_logo(),\n",
        "    dcc.Graph(id = \"my_graph\"),\n",
        "    create_logo()\n",
        "])\n",
        "\n",
        "if __name__ == '__main__':\n",
        "    app.run(debug=True)\n"
      ]
    },
    {
      "cell_type": "markdown",
      "metadata": {
        "id": "2EYHxXGS90fX"
      },
      "source": [
        "Veamos otro ejemplo. En esta aplicación, parece común usar varios descansos (break) para proporcionar espacio. Vamos a crear una función que devolverá cualquier cantidad de componentes de interrupción HTML de Dash. La función `make_break()` aquí toma un argumento que especifíca cuántos saltos de HTML crear y poner en la lista de adentro. Ahora, dentro del diseño, podemos llamar a la función para que devuelva saltos en línea. Tenga en cuenta la estrella antes de la llamada de función para expandir el resultado en línea. Esto es especialmente útil para devolver una lista de elementos.\n",
        "\n"
      ]
    },
    {
      "cell_type": "code",
      "execution_count": 46,
      "metadata": {
        "colab": {
          "base_uri": "https://localhost:8080/",
          "height": 671
        },
        "id": "bSwaIET_93g8",
        "outputId": "cbfd1088-4616-45fc-c429-75505aadd852"
      },
      "outputs": [
        {
          "output_type": "display_data",
          "data": {
            "text/plain": [
              "<IPython.core.display.Javascript object>"
            ],
            "application/javascript": [
              "(async (port, path, width, height, cache, element) => {\n",
              "    if (!google.colab.kernel.accessAllowed && !cache) {\n",
              "      return;\n",
              "    }\n",
              "    element.appendChild(document.createTextNode(''));\n",
              "    const url = await google.colab.kernel.proxyPort(port, {cache});\n",
              "    const iframe = document.createElement('iframe');\n",
              "    iframe.src = new URL(path, url).toString();\n",
              "    iframe.height = height;\n",
              "    iframe.width = width;\n",
              "    iframe.style.border = 0;\n",
              "    iframe.allow = [\n",
              "        'accelerometer',\n",
              "        'autoplay',\n",
              "        'camera',\n",
              "        'clipboard-read',\n",
              "        'clipboard-write',\n",
              "        'gyroscope',\n",
              "        'magnetometer',\n",
              "        'microphone',\n",
              "        'serial',\n",
              "        'usb',\n",
              "        'xr-spatial-tracking',\n",
              "    ].join('; ');\n",
              "    element.appendChild(iframe);\n",
              "  })(8050, \"/\", \"100%\", 650, false, window.element)"
            ]
          },
          "metadata": {}
        }
      ],
      "source": [
        "import dash\n",
        "import dash_core_components as dcc\n",
        "import dash_html_components as html\n",
        "import plotly.express as px\n",
        "import pandas as pd\n",
        "from dash.dependencies import Input, Output\n",
        "\n",
        "logo_link = 'https://assets.datacamp.com/production/repositories/5893/datasets/fdbe0accd2581a0c505dab4b29ebb66cf72a1803/e-comlogo.png'\n",
        "\n",
        "app = dash.Dash()\n",
        "\n",
        "def make_break(num_breaks):\n",
        "  br_list = [html.Br()]*num_breaks\n",
        "  return br_list\n",
        "\n",
        "app.layout = html.Div([\n",
        "    html.Img(src = logo_link),\n",
        "    *make_break(2),\n",
        "    html.H1(\"Sales breakdowns\"),\n",
        "    *make_break(3)\n",
        "])\n",
        "\n",
        "if __name__ == '__main__':\n",
        "    app.run(debug=True)"
      ]
    },
    {
      "cell_type": "markdown",
      "metadata": {
        "id": "Tb4UkQ-r_lUv"
      },
      "source": [
        "### Reutilización de Estilo\n",
        "\n",
        "En lugar de crear componentes completos, es posible que deseemos agregar un estilo común. Aquí podemos aprovechar el método de actualización de puntos del diccionario de Python. Veamos un ejemplo. Cuidado, debemos asegurarnos de que las claves de nuestro diccionario sean únicas; de lo contrario, puede haber resultados inesperados. Si tenemos un diccionario de Python, llamar al método de actualización con otro diccionario funsionará los dos. Como puede ver aquí, ahora tenemos un diccionario completo.\n",
        "\n",
        "\n"
      ]
    },
    {
      "cell_type": "code",
      "execution_count": null,
      "metadata": {
        "colab": {
          "base_uri": "https://localhost:8080/"
        },
        "id": "kVh3nqnGBHrN",
        "outputId": "cf73107c-ea20-427d-cdc9-1379dca08f96"
      },
      "outputs": [
        {
          "name": "stdout",
          "output_type": "stream",
          "text": [
            "{'Country': 'Australia', 'City': 'Sydney'}\n"
          ]
        }
      ],
      "source": [
        "d1 = {\"Country\":\"Australia\"}\n",
        "d2 = {\"City\":\"Sydney\"}\n",
        "d1.update(d2)\n",
        "print(d1)"
      ]
    },
    {
      "cell_type": "markdown",
      "metadata": {
        "id": "iGqXzE7wBdhJ"
      },
      "source": [
        "### Funciones de Estilo en Dash\n",
        "\n",
        "Veamos cómo prodríamos implementar esto en Dash. Como antes, primero configuramos una función de Python. Esta función devuelve un diccionario con varias opciones de estilo. ahora necesitamos llamar a la función dentro de nuestro diseño Dash. Aquí, llamamos a la función para usar solo el estilo definido en la función. Esta es una opción. Alternativamente, podemos tener un estilo único para el elemento. Aquí creamos el elemento. Aquí creamos el estilo individual y luego lo actualizamos para incluir el estilo corporativo."
      ]
    },
    {
      "cell_type": "code",
      "execution_count": 47,
      "metadata": {
        "colab": {
          "base_uri": "https://localhost:8080/",
          "height": 671
        },
        "id": "jbA-v2lmCNDZ",
        "outputId": "9742a501-380a-4a30-bc9b-011e8d4740df"
      },
      "outputs": [
        {
          "output_type": "display_data",
          "data": {
            "text/plain": [
              "<IPython.core.display.Javascript object>"
            ],
            "application/javascript": [
              "(async (port, path, width, height, cache, element) => {\n",
              "    if (!google.colab.kernel.accessAllowed && !cache) {\n",
              "      return;\n",
              "    }\n",
              "    element.appendChild(document.createTextNode(''));\n",
              "    const url = await google.colab.kernel.proxyPort(port, {cache});\n",
              "    const iframe = document.createElement('iframe');\n",
              "    iframe.src = new URL(path, url).toString();\n",
              "    iframe.height = height;\n",
              "    iframe.width = width;\n",
              "    iframe.style.border = 0;\n",
              "    iframe.allow = [\n",
              "        'accelerometer',\n",
              "        'autoplay',\n",
              "        'camera',\n",
              "        'clipboard-read',\n",
              "        'clipboard-write',\n",
              "        'gyroscope',\n",
              "        'magnetometer',\n",
              "        'microphone',\n",
              "        'serial',\n",
              "        'usb',\n",
              "        'xr-spatial-tracking',\n",
              "    ].join('; ');\n",
              "    element.appendChild(iframe);\n",
              "  })(8050, \"/\", \"100%\", 650, false, window.element)"
            ]
          },
          "metadata": {}
        }
      ],
      "source": [
        "import dash\n",
        "import dash_core_components as dcc\n",
        "import dash_html_components as html\n",
        "import plotly.express as px\n",
        "import pandas as pd\n",
        "from dash.dependencies import Input, Output\n",
        "\n",
        "logo_link = 'https://assets.datacamp.com/production/repositories/5893/datasets/fdbe0accd2581a0c505dab4b29ebb66cf72a1803/e-comlogo.png'\n",
        "\n",
        "app = dash.Dash()\n",
        "\n",
        "# Funcion con diccionarios de estilos\n",
        "def style_c():\n",
        "  corp_style = {\n",
        "      \"margin\":\"0 auto\",\n",
        "      \"border\": \"2px solid black\",\n",
        "      \"display\": \"inline-block\",\n",
        "  }\n",
        "  return corp_style\n",
        "\n",
        "# Diseño Dash\n",
        "\n",
        "app.layout = html.Div([\n",
        "    html.Img(src = logo_link,\n",
        "             style = style_c()),\n",
        "    dcc.DatePickerSingle(\n",
        "        style = {\"width\":\"300px\"}.update(style_c())\n",
        "    )\n",
        "])\n",
        "\n",
        "if __name__ == '__main__':\n",
        "    app.run(debug=True)\n"
      ]
    },
    {
      "cell_type": "markdown",
      "metadata": {
        "id": "aqvbKZKNVVD2"
      },
      "source": [
        "## Entradas de Usuario en los componentes de Dash\n",
        "\n",
        "Aprendamos cómo aprovechar las entradas de los usuarios para mejorar la interactividad de nuestras aplicaciones Dash.\n",
        "\n",
        "### ¿Por qué la entrada del usuario?\n",
        "\n",
        "Las entradas de los usuarios superan algunas limitaciones de otros elementos interactivos que hemos visto. Podemos permitir que los usuarios ingresen valores numéricos, lo que ayuda para datos con un rango amplio. Imagine un menú despegable con dos mil valores por año. Podemos filtrar según las coincidencias de texto, ya sea exactas o de patrón. Aunque está más allá del alcance de este curso, también podríamos crear una función de inicio de sesión.\n",
        "\n",
        "### Entrada del usuario en Dash\n",
        "\n",
        "Las entradas del usuario son un tipo de entrada `Dash_core_components `, alias como `dcc.Input`. Vea el ejemplo aquí\n"
      ]
    },
    {
      "cell_type": "code",
      "execution_count": 48,
      "metadata": {
        "colab": {
          "base_uri": "https://localhost:8080/",
          "height": 671
        },
        "id": "1uNjcRvgdvjp",
        "outputId": "a90d572f-e361-4110-b610-c954abfd574f"
      },
      "outputs": [
        {
          "output_type": "display_data",
          "data": {
            "text/plain": [
              "<IPython.core.display.Javascript object>"
            ],
            "application/javascript": [
              "(async (port, path, width, height, cache, element) => {\n",
              "    if (!google.colab.kernel.accessAllowed && !cache) {\n",
              "      return;\n",
              "    }\n",
              "    element.appendChild(document.createTextNode(''));\n",
              "    const url = await google.colab.kernel.proxyPort(port, {cache});\n",
              "    const iframe = document.createElement('iframe');\n",
              "    iframe.src = new URL(path, url).toString();\n",
              "    iframe.height = height;\n",
              "    iframe.width = width;\n",
              "    iframe.style.border = 0;\n",
              "    iframe.allow = [\n",
              "        'accelerometer',\n",
              "        'autoplay',\n",
              "        'camera',\n",
              "        'clipboard-read',\n",
              "        'clipboard-write',\n",
              "        'gyroscope',\n",
              "        'magnetometer',\n",
              "        'microphone',\n",
              "        'serial',\n",
              "        'usb',\n",
              "        'xr-spatial-tracking',\n",
              "    ].join('; ');\n",
              "    element.appendChild(iframe);\n",
              "  })(8050, \"/\", \"100%\", 650, false, window.element)"
            ]
          },
          "metadata": {}
        }
      ],
      "source": [
        "import dash\n",
        "import dash_core_components as dcc\n",
        "import dash_html_components as html\n",
        "import plotly.express as px\n",
        "import pandas as pd\n",
        "from dash.dependencies import Input, Output\n",
        "\n",
        "logo_link = 'https://assets.datacamp.com/production/repositories/5893/datasets/fdbe0accd2581a0c505dab4b29ebb66cf72a1803/e-comlogo.png'\n",
        "\n",
        "def create_logo():\n",
        "  logo = html.Img(src = logo_link, style = {\n",
        "      \"margin\":\"30px 0px 0px 0px\",\n",
        "      \"padding\":\"50px 50px\",\n",
        "      \"border\":\"3px dotted lightblue\",\n",
        "      \"background-color\":\"rgb(230, 131, 247)\"\n",
        "  })\n",
        "\n",
        "app = dash.Dash()\n",
        "\n",
        "\n",
        "app.layout = html.Div([\n",
        "    create_logo(),\n",
        "    dcc.Input(\n",
        "    id = \"my_input\",\n",
        "    type = \"text\",\n",
        "    placeholder = \"Enter your text\")\n",
        "\n",
        "])\n",
        "\n",
        "if __name__ == '__main__':\n",
        "    app.run(debug=True)\n"
      ]
    },
    {
      "cell_type": "markdown",
      "metadata": {
        "id": "ZUagQVpHgDKl"
      },
      "source": [
        "Como pudo apreciar, se requiere una identificación, como otros componentes principales, para la integración de devolución de llamada. El tipo predeterminado será texto, pero hay otras opciones que cubriremos. Es una buena idea proporcionar un marcador de posición."
      ]
    },
    {
      "cell_type": "markdown",
      "metadata": {
        "id": "wlKL-qBbg6fC"
      },
      "source": [
        "### Usando la entrada\n",
        "\n",
        "El uso de componentes de entrada de  usuario es similar a otros componentes básicos interactivos. La entrada se convierte en una variable de Python. Esto luego se usa en una devolución de llamada para efectuar algún cambio y regenerar para de la aplicación.\n",
        "\n",
        "### Tipos de entrada de usuario\n",
        "\n",
        "Dash tiene una variedad de tipos de entrada de usuario. Algunos son lo que esperamos del nombre. Esto incluye la entrada de texto más general, la entrada de un número y la contraseña común y las entradas de correo electrónico que vemos en los inicios de sesión del sitio web. También hay tipos más especializados, como rango, que crea un control deslizante de rango, y tel y url, que son para números de teléfono y entradas URL de sitios web. También hay tipos de entrada avanzada que están más alla del alcance de este curso y que se pueden usar para la interacción avanzada del navegador.\n",
        "\n",
        "### Restricción de la entrada del usuario\n",
        "\n",
        "El argumento de tipo es útil ya que establece automáticamente algunos procedimientos de validación en la entrada del usuario. Por ejemplo, un tipo de correo electrónico requiere un formato de correo electronico estandar. Si no se ingresa, aparece un cuadro rojo alrededor de la entrada y no se realiza la devolución de llamada.\n",
        "\n",
        "\n"
      ]
    },
    {
      "cell_type": "code",
      "execution_count": 49,
      "metadata": {
        "colab": {
          "base_uri": "https://localhost:8080/",
          "height": 671
        },
        "id": "2XKzIZNMs9Av",
        "outputId": "22b5687e-151e-4037-f592-729d99b2386d"
      },
      "outputs": [
        {
          "output_type": "display_data",
          "data": {
            "text/plain": [
              "<IPython.core.display.Javascript object>"
            ],
            "application/javascript": [
              "(async (port, path, width, height, cache, element) => {\n",
              "    if (!google.colab.kernel.accessAllowed && !cache) {\n",
              "      return;\n",
              "    }\n",
              "    element.appendChild(document.createTextNode(''));\n",
              "    const url = await google.colab.kernel.proxyPort(port, {cache});\n",
              "    const iframe = document.createElement('iframe');\n",
              "    iframe.src = new URL(path, url).toString();\n",
              "    iframe.height = height;\n",
              "    iframe.width = width;\n",
              "    iframe.style.border = 0;\n",
              "    iframe.allow = [\n",
              "        'accelerometer',\n",
              "        'autoplay',\n",
              "        'camera',\n",
              "        'clipboard-read',\n",
              "        'clipboard-write',\n",
              "        'gyroscope',\n",
              "        'magnetometer',\n",
              "        'microphone',\n",
              "        'serial',\n",
              "        'usb',\n",
              "        'xr-spatial-tracking',\n",
              "    ].join('; ');\n",
              "    element.appendChild(iframe);\n",
              "  })(8050, \"/\", \"100%\", 650, false, window.element)"
            ]
          },
          "metadata": {}
        }
      ],
      "source": [
        "import dash\n",
        "import dash_core_components as dcc\n",
        "import dash_html_components as html\n",
        "import plotly.express as px\n",
        "import pandas as pd\n",
        "from dash.dependencies import Input, Output\n",
        "\n",
        "logo_link = 'https://assets.datacamp.com/production/repositories/5893/datasets/fdbe0accd2581a0c505dab4b29ebb66cf72a1803/e-comlogo.png'\n",
        "\n",
        "def create_logo():\n",
        "  logo = html.Img(src = logo_link, style = {\n",
        "      \"margin\":\"30px 0px 0px 0px\",\n",
        "      \"padding\":\"50px 50px\",\n",
        "      \"border\":\"3px dotted lightblue\",\n",
        "      \"background-color\":\"rgb(230, 131, 247)\"\n",
        "  })\n",
        "\n",
        "app = dash.Dash()\n",
        "\n",
        "\n",
        "app.layout = html.Div([\n",
        "    create_logo(),\n",
        "    dcc.Input(\n",
        "    id = \"my_input\",\n",
        "    type = \"email\",\n",
        "    placeholder = \"Enter your email\")\n",
        "\n",
        "])\n",
        "\n",
        "if __name__ == '__main__':\n",
        "    app.run(debug=True)"
      ]
    },
    {
      "cell_type": "markdown",
      "metadata": {
        "id": "rQU5dGZithxB"
      },
      "source": [
        "### Restricciones Adicionales\n",
        "\n",
        "Podemos controlar aún más la entrada del usuario con argumentos adicionales disponibles para ciertos tipos de entrada. Un tipo de número por defecto solo permite números, pero tiene argumentos adicionales, mínimo y máximos, para establecer los límites numéricos de la entrada. Hay argumentos `minLength `y `maxLength` similares disponibles para entradas de texto. Las entradas de texto también permiten la validación de expresiones regulares, donde la entrada debe coincidir con el patrón de expresiones regulares proporcionado a través del argumento del patrón."
      ]
    },
    {
      "cell_type": "code",
      "execution_count": 50,
      "metadata": {
        "colab": {
          "base_uri": "https://localhost:8080/",
          "height": 671
        },
        "id": "0U7XujpluVBT",
        "outputId": "3aa2ba17-ac7f-458d-ce61-04c3567def33"
      },
      "outputs": [
        {
          "output_type": "display_data",
          "data": {
            "text/plain": [
              "<IPython.core.display.Javascript object>"
            ],
            "application/javascript": [
              "(async (port, path, width, height, cache, element) => {\n",
              "    if (!google.colab.kernel.accessAllowed && !cache) {\n",
              "      return;\n",
              "    }\n",
              "    element.appendChild(document.createTextNode(''));\n",
              "    const url = await google.colab.kernel.proxyPort(port, {cache});\n",
              "    const iframe = document.createElement('iframe');\n",
              "    iframe.src = new URL(path, url).toString();\n",
              "    iframe.height = height;\n",
              "    iframe.width = width;\n",
              "    iframe.style.border = 0;\n",
              "    iframe.allow = [\n",
              "        'accelerometer',\n",
              "        'autoplay',\n",
              "        'camera',\n",
              "        'clipboard-read',\n",
              "        'clipboard-write',\n",
              "        'gyroscope',\n",
              "        'magnetometer',\n",
              "        'microphone',\n",
              "        'serial',\n",
              "        'usb',\n",
              "        'xr-spatial-tracking',\n",
              "    ].join('; ');\n",
              "    element.appendChild(iframe);\n",
              "  })(8050, \"/\", \"100%\", 650, false, window.element)"
            ]
          },
          "metadata": {}
        }
      ],
      "source": [
        "import dash\n",
        "import dash_core_components as dcc\n",
        "import dash_html_components as html\n",
        "import plotly.express as px\n",
        "import pandas as pd\n",
        "from dash.dependencies import Input, Output\n",
        "\n",
        "logo_link = 'https://assets.datacamp.com/production/repositories/5893/datasets/fdbe0accd2581a0c505dab4b29ebb66cf72a1803/e-comlogo.png'\n",
        "\n",
        "def create_logo():\n",
        "  logo = html.Img(src = logo_link, style = {\n",
        "      \"margin\":\"30px 0px 0px 0px\",\n",
        "      \"padding\":\"50px 50px\",\n",
        "      \"border\":\"3px dotted lightblue\",\n",
        "      \"background-color\":\"rgb(230, 131, 247)\"\n",
        "  })\n",
        "\n",
        "app = dash.Dash()\n",
        "\n",
        "\n",
        "app.layout = html.Div([\n",
        "    create_logo(),\n",
        "    dcc.Input(\n",
        "    id = \"my_input\",\n",
        "    type = \"number\",\n",
        "    max = 250)\n",
        "\n",
        "])\n",
        "\n",
        "if __name__ == '__main__':\n",
        "    app.run(debug=True)"
      ]
    },
    {
      "cell_type": "markdown",
      "metadata": {
        "id": "xCyhn3aRuvXr"
      },
      "source": [
        "### Cambiar una entrada\n",
        "\n",
        "También podemos deshabilitar una entrada usando el argumento deshabilitado, potencialmente basado en alguna otra entrada o selección, o  podemos obligar al usuario a usar la entrada usando el argumento requerido. Ambos son argumentos booleanos verdadero/falso para la función dcc.Input."
      ]
    },
    {
      "cell_type": "code",
      "execution_count": 51,
      "metadata": {
        "colab": {
          "base_uri": "https://localhost:8080/",
          "height": 671
        },
        "id": "mp99JwLZvHqg",
        "outputId": "09501674-85a3-410a-8fc5-eb4ca8552645"
      },
      "outputs": [
        {
          "output_type": "display_data",
          "data": {
            "text/plain": [
              "<IPython.core.display.Javascript object>"
            ],
            "application/javascript": [
              "(async (port, path, width, height, cache, element) => {\n",
              "    if (!google.colab.kernel.accessAllowed && !cache) {\n",
              "      return;\n",
              "    }\n",
              "    element.appendChild(document.createTextNode(''));\n",
              "    const url = await google.colab.kernel.proxyPort(port, {cache});\n",
              "    const iframe = document.createElement('iframe');\n",
              "    iframe.src = new URL(path, url).toString();\n",
              "    iframe.height = height;\n",
              "    iframe.width = width;\n",
              "    iframe.style.border = 0;\n",
              "    iframe.allow = [\n",
              "        'accelerometer',\n",
              "        'autoplay',\n",
              "        'camera',\n",
              "        'clipboard-read',\n",
              "        'clipboard-write',\n",
              "        'gyroscope',\n",
              "        'magnetometer',\n",
              "        'microphone',\n",
              "        'serial',\n",
              "        'usb',\n",
              "        'xr-spatial-tracking',\n",
              "    ].join('; ');\n",
              "    element.appendChild(iframe);\n",
              "  })(8050, \"/\", \"100%\", 650, false, window.element)"
            ]
          },
          "metadata": {}
        }
      ],
      "source": [
        "import dash\n",
        "import dash_core_components as dcc\n",
        "import dash_html_components as html\n",
        "import plotly.express as px\n",
        "import pandas as pd\n",
        "from dash.dependencies import Input, Output\n",
        "\n",
        "logo_link = 'https://assets.datacamp.com/production/repositories/5893/datasets/fdbe0accd2581a0c505dab4b29ebb66cf72a1803/e-comlogo.png'\n",
        "\n",
        "def create_logo():\n",
        "  logo = html.Img(src = logo_link, style = {\n",
        "      \"margin\":\"30px 0px 0px 0px\",\n",
        "      \"padding\":\"50px 50px\",\n",
        "      \"border\":\"3px dotted lightblue\",\n",
        "      \"background-color\":\"rgb(230, 131, 247)\"\n",
        "  })\n",
        "\n",
        "app = dash.Dash()\n",
        "\n",
        "\n",
        "app.layout = html.Div([\n",
        "    create_logo(),\n",
        "    dcc.Input(\n",
        "    id = \"my_input\",\n",
        "    disabled = True)\n",
        "\n",
        "\n",
        "])\n",
        "\n",
        "if __name__ == '__main__':\n",
        "    app.run(debug=True)"
      ]
    },
    {
      "cell_type": "markdown",
      "metadata": {
        "id": "hZ39s_7ZwjZt"
      },
      "source": [
        "### Cuando Actualizar\n",
        "\n",
        "La mayoría de los usuarios estarían familizarizados con agregar alguna entrada, luego presionar `Enter` o hacer click para desencadenar el cambio. Podemos cambiar este comportamiento usando el argumento `debounce`. En este ejemplo, el rebote se ha establecido False."
      ]
    },
    {
      "cell_type": "code",
      "execution_count": 52,
      "metadata": {
        "id": "P1l-nJDKxD2Y",
        "colab": {
          "base_uri": "https://localhost:8080/",
          "height": 671
        },
        "outputId": "09072b0a-6b54-4caa-9cb6-c1fa0e958003"
      },
      "outputs": [
        {
          "output_type": "display_data",
          "data": {
            "text/plain": [
              "<IPython.core.display.Javascript object>"
            ],
            "application/javascript": [
              "(async (port, path, width, height, cache, element) => {\n",
              "    if (!google.colab.kernel.accessAllowed && !cache) {\n",
              "      return;\n",
              "    }\n",
              "    element.appendChild(document.createTextNode(''));\n",
              "    const url = await google.colab.kernel.proxyPort(port, {cache});\n",
              "    const iframe = document.createElement('iframe');\n",
              "    iframe.src = new URL(path, url).toString();\n",
              "    iframe.height = height;\n",
              "    iframe.width = width;\n",
              "    iframe.style.border = 0;\n",
              "    iframe.allow = [\n",
              "        'accelerometer',\n",
              "        'autoplay',\n",
              "        'camera',\n",
              "        'clipboard-read',\n",
              "        'clipboard-write',\n",
              "        'gyroscope',\n",
              "        'magnetometer',\n",
              "        'microphone',\n",
              "        'serial',\n",
              "        'usb',\n",
              "        'xr-spatial-tracking',\n",
              "    ].join('; ');\n",
              "    element.appendChild(iframe);\n",
              "  })(8050, \"/\", \"100%\", 650, false, window.element)"
            ]
          },
          "metadata": {}
        }
      ],
      "source": [
        "import dash\n",
        "import dash_core_components as dcc\n",
        "import dash_html_components as html\n",
        "import plotly.express as px\n",
        "import pandas as pd\n",
        "from dash.dependencies import Input, Output\n",
        "\n",
        "logo_link = 'https://assets.datacamp.com/production/repositories/5893/datasets/fdbe0accd2581a0c505dab4b29ebb66cf72a1803/e-comlogo.png'\n",
        "\n",
        "def create_logo():\n",
        "  logo = html.Img(src = logo_link, style = {\n",
        "      \"margin\":\"30px 0px 0px 0px\",\n",
        "      \"padding\":\"50px 50px\",\n",
        "      \"border\":\"3px dotted lightblue\",\n",
        "      \"background-color\":\"rgb(230, 131, 247)\"\n",
        "  })\n",
        "\n",
        "app = dash.Dash()\n",
        "\n",
        "\n",
        "app.layout = html.Div([\n",
        "    create_logo(),\n",
        "    dcc.Input(id = \"my_input\", type = \"text\",\n",
        "              debounce = False)\n",
        "\n",
        "])\n",
        "\n",
        "if __name__ == '__main__':\n",
        "    app.run(debug=True)"
      ]
    },
    {
      "cell_type": "code",
      "source": [
        "from google.colab import files\n",
        "uploaded = files.upload()"
      ],
      "metadata": {
        "colab": {
          "base_uri": "https://localhost:8080/",
          "height": 74
        },
        "id": "mpZbyPjjAib5",
        "outputId": "383c4004-c377-4e1a-831f-1a0408191ed5"
      },
      "execution_count": 53,
      "outputs": [
        {
          "output_type": "display_data",
          "data": {
            "text/plain": [
              "<IPython.core.display.HTML object>"
            ],
            "text/html": [
              "\n",
              "     <input type=\"file\" id=\"files-c71cd0bb-77a0-498e-b677-4adf2f7e570c\" name=\"files[]\" multiple disabled\n",
              "        style=\"border:none\" />\n",
              "     <output id=\"result-c71cd0bb-77a0-498e-b677-4adf2f7e570c\">\n",
              "      Upload widget is only available when the cell has been executed in the\n",
              "      current browser session. Please rerun this cell to enable.\n",
              "      </output>\n",
              "      <script>// Copyright 2017 Google LLC\n",
              "//\n",
              "// Licensed under the Apache License, Version 2.0 (the \"License\");\n",
              "// you may not use this file except in compliance with the License.\n",
              "// You may obtain a copy of the License at\n",
              "//\n",
              "//      http://www.apache.org/licenses/LICENSE-2.0\n",
              "//\n",
              "// Unless required by applicable law or agreed to in writing, software\n",
              "// distributed under the License is distributed on an \"AS IS\" BASIS,\n",
              "// WITHOUT WARRANTIES OR CONDITIONS OF ANY KIND, either express or implied.\n",
              "// See the License for the specific language governing permissions and\n",
              "// limitations under the License.\n",
              "\n",
              "/**\n",
              " * @fileoverview Helpers for google.colab Python module.\n",
              " */\n",
              "(function(scope) {\n",
              "function span(text, styleAttributes = {}) {\n",
              "  const element = document.createElement('span');\n",
              "  element.textContent = text;\n",
              "  for (const key of Object.keys(styleAttributes)) {\n",
              "    element.style[key] = styleAttributes[key];\n",
              "  }\n",
              "  return element;\n",
              "}\n",
              "\n",
              "// Max number of bytes which will be uploaded at a time.\n",
              "const MAX_PAYLOAD_SIZE = 100 * 1024;\n",
              "\n",
              "function _uploadFiles(inputId, outputId) {\n",
              "  const steps = uploadFilesStep(inputId, outputId);\n",
              "  const outputElement = document.getElementById(outputId);\n",
              "  // Cache steps on the outputElement to make it available for the next call\n",
              "  // to uploadFilesContinue from Python.\n",
              "  outputElement.steps = steps;\n",
              "\n",
              "  return _uploadFilesContinue(outputId);\n",
              "}\n",
              "\n",
              "// This is roughly an async generator (not supported in the browser yet),\n",
              "// where there are multiple asynchronous steps and the Python side is going\n",
              "// to poll for completion of each step.\n",
              "// This uses a Promise to block the python side on completion of each step,\n",
              "// then passes the result of the previous step as the input to the next step.\n",
              "function _uploadFilesContinue(outputId) {\n",
              "  const outputElement = document.getElementById(outputId);\n",
              "  const steps = outputElement.steps;\n",
              "\n",
              "  const next = steps.next(outputElement.lastPromiseValue);\n",
              "  return Promise.resolve(next.value.promise).then((value) => {\n",
              "    // Cache the last promise value to make it available to the next\n",
              "    // step of the generator.\n",
              "    outputElement.lastPromiseValue = value;\n",
              "    return next.value.response;\n",
              "  });\n",
              "}\n",
              "\n",
              "/**\n",
              " * Generator function which is called between each async step of the upload\n",
              " * process.\n",
              " * @param {string} inputId Element ID of the input file picker element.\n",
              " * @param {string} outputId Element ID of the output display.\n",
              " * @return {!Iterable<!Object>} Iterable of next steps.\n",
              " */\n",
              "function* uploadFilesStep(inputId, outputId) {\n",
              "  const inputElement = document.getElementById(inputId);\n",
              "  inputElement.disabled = false;\n",
              "\n",
              "  const outputElement = document.getElementById(outputId);\n",
              "  outputElement.innerHTML = '';\n",
              "\n",
              "  const pickedPromise = new Promise((resolve) => {\n",
              "    inputElement.addEventListener('change', (e) => {\n",
              "      resolve(e.target.files);\n",
              "    });\n",
              "  });\n",
              "\n",
              "  const cancel = document.createElement('button');\n",
              "  inputElement.parentElement.appendChild(cancel);\n",
              "  cancel.textContent = 'Cancel upload';\n",
              "  const cancelPromise = new Promise((resolve) => {\n",
              "    cancel.onclick = () => {\n",
              "      resolve(null);\n",
              "    };\n",
              "  });\n",
              "\n",
              "  // Wait for the user to pick the files.\n",
              "  const files = yield {\n",
              "    promise: Promise.race([pickedPromise, cancelPromise]),\n",
              "    response: {\n",
              "      action: 'starting',\n",
              "    }\n",
              "  };\n",
              "\n",
              "  cancel.remove();\n",
              "\n",
              "  // Disable the input element since further picks are not allowed.\n",
              "  inputElement.disabled = true;\n",
              "\n",
              "  if (!files) {\n",
              "    return {\n",
              "      response: {\n",
              "        action: 'complete',\n",
              "      }\n",
              "    };\n",
              "  }\n",
              "\n",
              "  for (const file of files) {\n",
              "    const li = document.createElement('li');\n",
              "    li.append(span(file.name, {fontWeight: 'bold'}));\n",
              "    li.append(span(\n",
              "        `(${file.type || 'n/a'}) - ${file.size} bytes, ` +\n",
              "        `last modified: ${\n",
              "            file.lastModifiedDate ? file.lastModifiedDate.toLocaleDateString() :\n",
              "                                    'n/a'} - `));\n",
              "    const percent = span('0% done');\n",
              "    li.appendChild(percent);\n",
              "\n",
              "    outputElement.appendChild(li);\n",
              "\n",
              "    const fileDataPromise = new Promise((resolve) => {\n",
              "      const reader = new FileReader();\n",
              "      reader.onload = (e) => {\n",
              "        resolve(e.target.result);\n",
              "      };\n",
              "      reader.readAsArrayBuffer(file);\n",
              "    });\n",
              "    // Wait for the data to be ready.\n",
              "    let fileData = yield {\n",
              "      promise: fileDataPromise,\n",
              "      response: {\n",
              "        action: 'continue',\n",
              "      }\n",
              "    };\n",
              "\n",
              "    // Use a chunked sending to avoid message size limits. See b/62115660.\n",
              "    let position = 0;\n",
              "    do {\n",
              "      const length = Math.min(fileData.byteLength - position, MAX_PAYLOAD_SIZE);\n",
              "      const chunk = new Uint8Array(fileData, position, length);\n",
              "      position += length;\n",
              "\n",
              "      const base64 = btoa(String.fromCharCode.apply(null, chunk));\n",
              "      yield {\n",
              "        response: {\n",
              "          action: 'append',\n",
              "          file: file.name,\n",
              "          data: base64,\n",
              "        },\n",
              "      };\n",
              "\n",
              "      let percentDone = fileData.byteLength === 0 ?\n",
              "          100 :\n",
              "          Math.round((position / fileData.byteLength) * 100);\n",
              "      percent.textContent = `${percentDone}% done`;\n",
              "\n",
              "    } while (position < fileData.byteLength);\n",
              "  }\n",
              "\n",
              "  // All done.\n",
              "  yield {\n",
              "    response: {\n",
              "      action: 'complete',\n",
              "    }\n",
              "  };\n",
              "}\n",
              "\n",
              "scope.google = scope.google || {};\n",
              "scope.google.colab = scope.google.colab || {};\n",
              "scope.google.colab._files = {\n",
              "  _uploadFiles,\n",
              "  _uploadFilesContinue,\n",
              "};\n",
              "})(self);\n",
              "</script> "
            ]
          },
          "metadata": {}
        },
        {
          "output_type": "stream",
          "name": "stdout",
          "text": [
            "Saving ecom_sales.csv to ecom_sales (4).csv\n"
          ]
        }
      ]
    },
    {
      "cell_type": "code",
      "source": [
        "import dash\n",
        "import dash_core_components as dcc\n",
        "import dash_html_components as html\n",
        "import plotly.express as px\n",
        "import pandas as pd\n",
        "from dash.dependencies import Input, Output\n",
        "from datetime import datetime, date\n",
        "ecom_sales = pd.read_csv('ecom_sales.csv')\n",
        "logo_link = 'https://assets.datacamp.com/production/repositories/5893/datasets/fdbe0accd2581a0c505dab4b29ebb66cf72a1803/e-comlogo.png'\n",
        "\n",
        "def make_break(num_breaks):\n",
        "    br_list = [html.Br()] * num_breaks\n",
        "    return br_list\n",
        "\n",
        "def add_logo():\n",
        "    corp_logo = html.Img(\n",
        "        src=logo_link,\n",
        "        style={'margin':'20px 20px 5px 5px',\n",
        "              'border':'1px dashed lightblue',\n",
        "              'display':'inline-block'})\n",
        "    return corp_logo\n",
        "\n",
        "def style_c():\n",
        "    layout_style={\n",
        "        'display':'inline-block',\n",
        "        'margin':'0 auto',\n",
        "        'padding':'20px',\n",
        "    }\n",
        "    return layout_style\n",
        "\n",
        "\n",
        "app = dash.Dash(__name__)\n",
        "\n",
        "app.layout = html.Div([\n",
        "  add_logo(),\n",
        "  *make_break(2),\n",
        "  html.H1('Sales Dashboard'),\n",
        "  *make_break(3),\n",
        "  html.Div(\n",
        "    children=[\n",
        "    html.Div(\n",
        "        children=[\n",
        "        html.H2('Controls', style=style_c()),\n",
        "        html.H3('Search Descriptions'),\n",
        "        *make_break(2),\n",
        "        # Add the required input\n",
        "        dcc.Input(id='search_desc', type='text',\n",
        "        placeholder='Filter Product Descriptions',\n",
        "        # Ensure input is triggered with 'Enter'\n",
        "        debounce=True,\n",
        "        # Ensure the plot can load without a selection\n",
        "        required=False,\n",
        "        style={'width':'200px', 'height':'30px'})\n",
        "        ],\n",
        "        style={'width':'350px', 'height':'350px', 'vertical-align':'top', 'border':'1px solid black',\n",
        "        'display':'inline-block', 'margin':'0px 80px'}),\n",
        "    html.Div(children=[\n",
        "            dcc.Graph(id='sales_desc'),\n",
        "            html.H2('Sales Quantity by Country',\n",
        "            style={ 'border':'2px solid black', 'width':'400px', 'margin':'0 auto'})\n",
        "            ],\n",
        "             style={'width':'700px','display':'inline-block'}\n",
        "             ),\n",
        "    ])\n",
        "    ],\n",
        "  style={'text-align':'center', 'display':'inline-block', 'width':'100%'}\n",
        "  )\n",
        "\n",
        "@app.callback(\n",
        "    Output(component_id='sales_desc', component_property='figure'),\n",
        "    Input(component_id='search_desc', component_property='value')\n",
        ")\n",
        "def update_plot(search_value):\n",
        "    title_value = 'None Selected (Showing all)'\n",
        "\n",
        "    sales = ecom_sales.copy(deep=True)\n",
        "\n",
        "    # Undertake the filter here using the user input\n",
        "    if search_value:\n",
        "        sales = sales[sales['Description'].str.contains(search_value, case=False)]\n",
        "        title_value = search_value\n",
        "\n",
        "    fig = px.scatter(data_frame=sales,\n",
        "                    y='OrderValue', x='Quantity', color='Country',title=f'Sales with description text: {title_value}')\n",
        "\n",
        "    return fig\n",
        "\n",
        "\n",
        "if __name__ == '__main__':\n",
        "    app.run_server(debug=True)"
      ],
      "metadata": {
        "colab": {
          "base_uri": "https://localhost:8080/",
          "height": 671
        },
        "id": "wqK_0sQt2u2o",
        "outputId": "744661df-b726-47de-de67-72500ff3fb7e"
      },
      "execution_count": 54,
      "outputs": [
        {
          "output_type": "display_data",
          "data": {
            "text/plain": [
              "<IPython.core.display.Javascript object>"
            ],
            "application/javascript": [
              "(async (port, path, width, height, cache, element) => {\n",
              "    if (!google.colab.kernel.accessAllowed && !cache) {\n",
              "      return;\n",
              "    }\n",
              "    element.appendChild(document.createTextNode(''));\n",
              "    const url = await google.colab.kernel.proxyPort(port, {cache});\n",
              "    const iframe = document.createElement('iframe');\n",
              "    iframe.src = new URL(path, url).toString();\n",
              "    iframe.height = height;\n",
              "    iframe.width = width;\n",
              "    iframe.style.border = 0;\n",
              "    iframe.allow = [\n",
              "        'accelerometer',\n",
              "        'autoplay',\n",
              "        'camera',\n",
              "        'clipboard-read',\n",
              "        'clipboard-write',\n",
              "        'gyroscope',\n",
              "        'magnetometer',\n",
              "        'microphone',\n",
              "        'serial',\n",
              "        'usb',\n",
              "        'xr-spatial-tracking',\n",
              "    ].join('; ');\n",
              "    element.appendChild(iframe);\n",
              "  })(8050, \"/\", \"100%\", 650, false, window.element)"
            ]
          },
          "metadata": {}
        }
      ]
    },
    {
      "cell_type": "code",
      "source": [
        "import dash\n",
        "import dash_core_components as dcc\n",
        "import dash_html_components as html\n",
        "import plotly.express as px\n",
        "import pandas as pd\n",
        "from dash.dependencies import Input, Output\n",
        "from datetime import datetime, date\n",
        "ecom_sales = pd.read_csv('ecom_sales.csv')\n",
        "logo_link = 'https://assets.datacamp.com/production/repositories/5893/datasets/fdbe0accd2581a0c505dab4b29ebb66cf72a1803/e-comlogo.png'\n",
        "\n",
        "def make_break(num_breaks):\n",
        "    br_list = [html.Br()] * num_breaks\n",
        "    return br_list\n",
        "\n",
        "def add_logo():\n",
        "    corp_logo = html.Img(\n",
        "        src=logo_link,\n",
        "        style={'margin':'20px 20px 5px 5px',\n",
        "              'border':'1px dashed lightblue',\n",
        "              'display':'inline-block'})\n",
        "    return corp_logo\n",
        "\n",
        "def style_c():\n",
        "    layout_style={\n",
        "        'display':'inline-block',\n",
        "        'margin':'0 auto',\n",
        "        'padding':'20px',\n",
        "    }\n",
        "    return layout_style\n",
        "\n",
        "app = dash.Dash(__name__)\n",
        "\n",
        "app.layout = html.Div([\n",
        "  add_logo(),\n",
        "  *make_break(2),\n",
        "  html.H1('Sales Dashboard'),\n",
        "  *make_break(3),\n",
        "  html.Div(\n",
        "    children=[\n",
        "    html.Div(\n",
        "        children=[\n",
        "        html.H2('Controls', style=style_c()),\n",
        "        html.H3('Set minimum OrderValue'),\n",
        "        *make_break(2),\n",
        "        dcc.Input(\n",
        "          # Create the specified input\n",
        "          id='min_order_val', type='range',\n",
        "          min=50, max=550, value=50,\n",
        "          # Ensure the callback is triggered only when the user stops moving the slider\n",
        "          debounce=False,\n",
        "        style={'width':'300px', 'height':'30px'})\n",
        "        ],\n",
        "        style={'width':'350px', 'height':'350px', 'vertical-align':'top', 'border':'1px solid black',\n",
        "        'display':'inline-block', 'margin':'0px 80px'}),\n",
        "    html.Div(children=[\n",
        "            dcc.Graph(id='sales_country'),\n",
        "            html.H2('Sales Quantity by Country',\n",
        "            style={ 'border':'2px solid black', 'width':'400px', 'margin':'0 auto'})\n",
        "            ],\n",
        "             style={'width':'700px','display':'inline-block'}\n",
        "             ),\n",
        "    ])\n",
        "    ],\n",
        "  style={'text-align':'center', 'display':'inline-block', 'width':'100%'}\n",
        "  )\n",
        "\n",
        "@app.callback(\n",
        "    Output(component_id='sales_country', component_property='figure'),\n",
        "    Input(component_id='min_order_val', component_property='value'))\n",
        "\n",
        "def update_plot(input_val):\n",
        "\n",
        "    if not input_val:\n",
        "      input_val = 0\n",
        "\n",
        "    sales = ecom_sales.copy(deep=True)\n",
        "\n",
        "    # Check for input then use to subset data\n",
        "    if input_val:\n",
        "        input_val = round(float(input_val), 2)\n",
        "        sales = sales[sales['OrderValue'] > input_val]\n",
        "\n",
        "    fig = px.scatter(data_frame=sales, y='OrderValue', height=400,\n",
        "                     x='Quantity', color='Country',\n",
        "\t\t\t\t\t # Set the conditional title\n",
        "                     title=f'Orders of Min Value ${input_val}')\n",
        "    return fig\n",
        "\n",
        "if __name__ == '__main__':\n",
        "    app.run_server(debug=True)"
      ],
      "metadata": {
        "colab": {
          "base_uri": "https://localhost:8080/",
          "height": 671
        },
        "id": "dT5kCuSg3cmH",
        "outputId": "e55e0215-9dbe-4ac8-8070-496b979338a8"
      },
      "execution_count": 55,
      "outputs": [
        {
          "output_type": "display_data",
          "data": {
            "text/plain": [
              "<IPython.core.display.Javascript object>"
            ],
            "application/javascript": [
              "(async (port, path, width, height, cache, element) => {\n",
              "    if (!google.colab.kernel.accessAllowed && !cache) {\n",
              "      return;\n",
              "    }\n",
              "    element.appendChild(document.createTextNode(''));\n",
              "    const url = await google.colab.kernel.proxyPort(port, {cache});\n",
              "    const iframe = document.createElement('iframe');\n",
              "    iframe.src = new URL(path, url).toString();\n",
              "    iframe.height = height;\n",
              "    iframe.width = width;\n",
              "    iframe.style.border = 0;\n",
              "    iframe.allow = [\n",
              "        'accelerometer',\n",
              "        'autoplay',\n",
              "        'camera',\n",
              "        'clipboard-read',\n",
              "        'clipboard-write',\n",
              "        'gyroscope',\n",
              "        'magnetometer',\n",
              "        'microphone',\n",
              "        'serial',\n",
              "        'usb',\n",
              "        'xr-spatial-tracking',\n",
              "    ].join('; ');\n",
              "    element.appendChild(iframe);\n",
              "  })(8050, \"/\", \"100%\", 650, false, window.element)"
            ]
          },
          "metadata": {}
        }
      ]
    }
  ],
  "metadata": {
    "colab": {
      "provenance": []
    },
    "kernelspec": {
      "display_name": "Python 3",
      "name": "python3"
    },
    "language_info": {
      "name": "python"
    }
  },
  "nbformat": 4,
  "nbformat_minor": 0
}